{
 "cells": [
  {
   "cell_type": "code",
   "execution_count": 74,
   "id": "fae7bc44-1234-419f-8626-48115d712bb9",
   "metadata": {},
   "outputs": [],
   "source": [
    "# Core libraries\n",
    "import os\n",
    "import pandas as pd\n",
    "import numpy as np\n",
    "import matplotlib.pyplot as plt\n",
    "import seaborn as sns\n",
    "\n",
    "# Preprocessing & modeling\n",
    "from sklearn.preprocessing import StandardScaler, LabelEncoder\n",
    "from sklearn.model_selection import train_test_split\n",
    "from sklearn.linear_model import LogisticRegression\n",
    "from sklearn.ensemble import RandomForestClassifier\n",
    "from xgboost import XGBClassifier\n",
    "from sklearn.metrics import classification_report, accuracy_score, confusion_matrix\n",
    "\n",
    "# Plot style\n",
    "sns.set(style=\"whitegrid\")\n"
   ]
  },
  {
   "cell_type": "code",
   "execution_count": 75,
   "id": "4ce71142-07eb-4704-a168-68e50c69d46b",
   "metadata": {},
   "outputs": [
    {
     "name": "stdout",
     "output_type": "stream",
     "text": [
      "Loaded existing file at data/winequality-red.csv\n",
      "CSV loaded as single column. Fixing now...\n",
      "Columns: ['fixed acidity', 'volatile acidity', 'citric acid', 'residual sugar', 'chlorides', 'free sulfur dioxide', 'total sulfur dioxide', 'density', 'pH', 'sulphates', 'alcohol', 'quality']\n",
      "Shape: (1599, 12)\n"
     ]
    },
    {
     "data": {
      "text/html": [
       "<div>\n",
       "<style scoped>\n",
       "    .dataframe tbody tr th:only-of-type {\n",
       "        vertical-align: middle;\n",
       "    }\n",
       "\n",
       "    .dataframe tbody tr th {\n",
       "        vertical-align: top;\n",
       "    }\n",
       "\n",
       "    .dataframe thead th {\n",
       "        text-align: right;\n",
       "    }\n",
       "</style>\n",
       "<table border=\"1\" class=\"dataframe\">\n",
       "  <thead>\n",
       "    <tr style=\"text-align: right;\">\n",
       "      <th></th>\n",
       "      <th>fixed acidity</th>\n",
       "      <th>volatile acidity</th>\n",
       "      <th>citric acid</th>\n",
       "      <th>residual sugar</th>\n",
       "      <th>chlorides</th>\n",
       "      <th>free sulfur dioxide</th>\n",
       "      <th>total sulfur dioxide</th>\n",
       "      <th>density</th>\n",
       "      <th>pH</th>\n",
       "      <th>sulphates</th>\n",
       "      <th>alcohol</th>\n",
       "      <th>quality</th>\n",
       "    </tr>\n",
       "  </thead>\n",
       "  <tbody>\n",
       "    <tr>\n",
       "      <th>0</th>\n",
       "      <td>7.4</td>\n",
       "      <td>0.70</td>\n",
       "      <td>0.00</td>\n",
       "      <td>1.9</td>\n",
       "      <td>0.076</td>\n",
       "      <td>11.0</td>\n",
       "      <td>34.0</td>\n",
       "      <td>0.9978</td>\n",
       "      <td>3.51</td>\n",
       "      <td>0.56</td>\n",
       "      <td>9.4</td>\n",
       "      <td>5</td>\n",
       "    </tr>\n",
       "    <tr>\n",
       "      <th>1</th>\n",
       "      <td>7.8</td>\n",
       "      <td>0.88</td>\n",
       "      <td>0.00</td>\n",
       "      <td>2.6</td>\n",
       "      <td>0.098</td>\n",
       "      <td>25.0</td>\n",
       "      <td>67.0</td>\n",
       "      <td>0.9968</td>\n",
       "      <td>3.20</td>\n",
       "      <td>0.68</td>\n",
       "      <td>9.8</td>\n",
       "      <td>5</td>\n",
       "    </tr>\n",
       "    <tr>\n",
       "      <th>2</th>\n",
       "      <td>7.8</td>\n",
       "      <td>0.76</td>\n",
       "      <td>0.04</td>\n",
       "      <td>2.3</td>\n",
       "      <td>0.092</td>\n",
       "      <td>15.0</td>\n",
       "      <td>54.0</td>\n",
       "      <td>0.9970</td>\n",
       "      <td>3.26</td>\n",
       "      <td>0.65</td>\n",
       "      <td>9.8</td>\n",
       "      <td>5</td>\n",
       "    </tr>\n",
       "    <tr>\n",
       "      <th>3</th>\n",
       "      <td>11.2</td>\n",
       "      <td>0.28</td>\n",
       "      <td>0.56</td>\n",
       "      <td>1.9</td>\n",
       "      <td>0.075</td>\n",
       "      <td>17.0</td>\n",
       "      <td>60.0</td>\n",
       "      <td>0.9980</td>\n",
       "      <td>3.16</td>\n",
       "      <td>0.58</td>\n",
       "      <td>9.8</td>\n",
       "      <td>6</td>\n",
       "    </tr>\n",
       "    <tr>\n",
       "      <th>4</th>\n",
       "      <td>7.4</td>\n",
       "      <td>0.70</td>\n",
       "      <td>0.00</td>\n",
       "      <td>1.9</td>\n",
       "      <td>0.076</td>\n",
       "      <td>11.0</td>\n",
       "      <td>34.0</td>\n",
       "      <td>0.9978</td>\n",
       "      <td>3.51</td>\n",
       "      <td>0.56</td>\n",
       "      <td>9.4</td>\n",
       "      <td>5</td>\n",
       "    </tr>\n",
       "  </tbody>\n",
       "</table>\n",
       "</div>"
      ],
      "text/plain": [
       "   fixed acidity  volatile acidity  citric acid  residual sugar  chlorides  \\\n",
       "0            7.4              0.70         0.00             1.9      0.076   \n",
       "1            7.8              0.88         0.00             2.6      0.098   \n",
       "2            7.8              0.76         0.04             2.3      0.092   \n",
       "3           11.2              0.28         0.56             1.9      0.075   \n",
       "4            7.4              0.70         0.00             1.9      0.076   \n",
       "\n",
       "   free sulfur dioxide  total sulfur dioxide  density    pH  sulphates  \\\n",
       "0                 11.0                  34.0   0.9978  3.51       0.56   \n",
       "1                 25.0                  67.0   0.9968  3.20       0.68   \n",
       "2                 15.0                  54.0   0.9970  3.26       0.65   \n",
       "3                 17.0                  60.0   0.9980  3.16       0.58   \n",
       "4                 11.0                  34.0   0.9978  3.51       0.56   \n",
       "\n",
       "   alcohol  quality  \n",
       "0      9.4        5  \n",
       "1      9.8        5  \n",
       "2      9.8        5  \n",
       "3      9.8        6  \n",
       "4      9.4        5  "
      ]
     },
     "execution_count": 75,
     "metadata": {},
     "output_type": "execute_result"
    }
   ],
   "source": [
    "# Create data folder\n",
    "os.makedirs(\"data\", exist_ok=True)\n",
    "local_path = \"data/winequality-red.csv\"\n",
    "\n",
    "# Download CSV if it doesn't exist\n",
    "if not os.path.isfile(local_path):\n",
    "    url = \"https://archive.ics.uci.edu/ml/machine-learning-databases/wine-quality/winequality-red.csv\"\n",
    "    df = pd.read_csv(url, sep=\";\")\n",
    "    df.to_csv(local_path, index=False)\n",
    "    print(f\"Downloaded and saved to {local_path}\")\n",
    "else:\n",
    "    df = pd.read_csv(local_path, sep=\";\", engine=\"python\")\n",
    "    print(f\"Loaded existing file at {local_path}\")\n",
    "\n",
    "# Strip any whitespace from column names\n",
    "df.columns = df.columns.str.strip()\n",
    "\n",
    "# Check if CSV loaded properly (should have 12 columns)\n",
    "if len(df.columns) == 1:\n",
    "    print(\"CSV loaded as single column. Fixing now...\")\n",
    "    df = df.iloc[:,0].str.split(\",\", expand=True)\n",
    "    df.columns = [\n",
    "        'fixed acidity', 'volatile acidity', 'citric acid', 'residual sugar',\n",
    "        'chlorides', 'free sulfur dioxide', 'total sulfur dioxide', 'density',\n",
    "        'pH', 'sulphates', 'alcohol', 'quality'\n",
    "    ]\n",
    "\n",
    "# Convert all columns to numeric\n",
    "for col in df.columns:\n",
    "    df[col] = pd.to_numeric(df[col], errors='coerce')\n",
    "\n",
    "# Check data\n",
    "print(\"Columns:\", df.columns.tolist())\n",
    "print(\"Shape:\", df.shape)\n",
    "df.head()\n"
   ]
  },
  {
   "cell_type": "code",
   "execution_count": 76,
   "id": "da26858f-4f0b-49f2-9e65-040c1f814045",
   "metadata": {},
   "outputs": [
    {
     "name": "stdout",
     "output_type": "stream",
     "text": [
      "Missing values:\n",
      " fixed acidity           0\n",
      "volatile acidity        0\n",
      "citric acid             0\n",
      "residual sugar          0\n",
      "chlorides               0\n",
      "free sulfur dioxide     0\n",
      "total sulfur dioxide    0\n",
      "density                 0\n",
      "pH                      0\n",
      "sulphates               0\n",
      "alcohol                 0\n",
      "quality                 0\n",
      "dtype: int64\n"
     ]
    }
   ],
   "source": [
    "print(\"Missing values:\\n\", df.isnull().sum())\n"
   ]
  },
  {
   "cell_type": "code",
   "execution_count": 77,
   "id": "468ab644-3589-4ab9-8043-f0af7cf14bca",
   "metadata": {},
   "outputs": [
    {
     "name": "stderr",
     "output_type": "stream",
     "text": [
      "/var/folders/0t/0vhy93bx667202bw699ppxfc0000gn/T/ipykernel_22668/3362763927.py:2: FutureWarning: \n",
      "\n",
      "Passing `palette` without assigning `hue` is deprecated and will be removed in v0.14.0. Assign the `x` variable to `hue` and set `legend=False` for the same effect.\n",
      "\n",
      "  sns.countplot(x=\"quality\", data=df, palette=\"mako\")\n"
     ]
    },
    {
     "data": {
      "image/png": "[encoded data removed]",
      "text/plain": [
       "<Figure size 800x500 with 1 Axes>"
      ]
     },
     "metadata": {},
     "output_type": "display_data"
    }
   ],
   "source": [
    "plt.figure(figsize=(8,5))\n",
    "sns.countplot(x=\"quality\", data=df, palette=\"mako\")\n",
    "plt.title(\"Wine Quality Distribution\")\n",
    "plt.xlabel(\"Quality Score\")\n",
    "plt.ylabel(\"Count\")\n",
    "plt.show()\n"
   ]
  },
  {
   "cell_type": "code",
   "execution_count": 78,
   "id": "34fd7358-c96d-4cce-b414-51e68bf9bdf7",
   "metadata": {},
   "outputs": [
    {
     "name": "stdout",
     "output_type": "stream",
     "text": [
      "Binned class distribution (train):\n",
      " quality\n",
      "Low       595\n",
      "Medium    510\n",
      "High      174\n",
      "Name: count, dtype: int64\n",
      "\n",
      "Binned class distribution (test):\n",
      " quality\n",
      "Low       149\n",
      "Medium    128\n",
      "High       43\n",
      "Name: count, dtype: int64\n"
     ]
    }
   ],
   "source": [
    "# Features and target\n",
    "X = df.drop(\"quality\", axis=1)\n",
    "y = df[\"quality\"]\n",
    "\n",
    "# Standardize features\n",
    "scaler = StandardScaler()\n",
    "X_scaled = scaler.fit_transform(X)\n",
    "\n",
    "# Train-test split\n",
    "X_train, X_test, y_train, y_test = train_test_split(\n",
    "    X_scaled, y, test_size=0.2, random_state=42, stratify=y\n",
    ")\n",
    "\n",
    "# Bin quality into Low/Medium/High\n",
    "def quality_bin(q):\n",
    "    if q <= 5:\n",
    "        return \"Low\"\n",
    "    elif q == 6:\n",
    "        return \"Medium\"\n",
    "    else:\n",
    "        return \"High\"\n",
    "\n",
    "y_train_binned = y_train.map(quality_bin)\n",
    "y_test_binned = y_test.map(quality_bin)\n",
    "\n",
    "print(\"Binned class distribution (train):\\n\", y_train_binned.value_counts())\n",
    "print(\"\\nBinned class distribution (test):\\n\", y_test_binned.value_counts())\n"
   ]
  },
  {
   "cell_type": "code",
   "execution_count": 79,
   "id": "dc3e4b5e-383a-4125-a3fe-8eb8de0e429f",
   "metadata": {},
   "outputs": [
    {
     "name": "stdout",
     "output_type": "stream",
     "text": [
      "Label mapping: {'High': 0, 'Low': 1, 'Medium': 2}\n"
     ]
    }
   ],
   "source": [
    "le = LabelEncoder()\n",
    "y_train_enc = le.fit_transform(y_train_binned)\n",
    "y_test_enc = le.transform(y_test_binned)\n",
    "print(\"Label mapping:\", dict(zip(le.classes_, range(len(le.classes_)))))\n"
   ]
  },
  {
   "cell_type": "code",
   "execution_count": 80,
   "id": "71acef71-bf8e-4ca4-80b7-701572b52bf1",
   "metadata": {},
   "outputs": [
    {
     "name": "stdout",
     "output_type": "stream",
     "text": [
      "=== Logistic Regression (Binned) ===\n",
      "              precision    recall  f1-score   support\n",
      "\n",
      "        High       0.84      0.37      0.52        43\n",
      "         Low       0.68      0.77      0.72       149\n",
      "      Medium       0.56      0.59      0.57       128\n",
      "\n",
      "    accuracy                           0.64       320\n",
      "   macro avg       0.69      0.57      0.60       320\n",
      "weighted avg       0.65      0.64      0.63       320\n",
      "\n"
     ]
    }
   ],
   "source": [
    "lr = LogisticRegression(max_iter=1000, random_state=42)\n",
    "lr.fit(X_train, y_train_binned)\n",
    "\n",
    "y_pred_lr_bin = lr.predict(X_test)\n",
    "\n",
    "print(\"=== Logistic Regression (Binned) ===\")\n",
    "print(classification_report(y_test_binned, y_pred_lr_bin, zero_division=0))\n"
   ]
  },
  {
   "cell_type": "code",
   "execution_count": 81,
   "id": "3ae29460-5d63-462c-9b22-771d73963067",
   "metadata": {},
   "outputs": [
    {
     "name": "stdout",
     "output_type": "stream",
     "text": [
      "=== Random Forest (Binned) ===\n",
      "              precision    recall  f1-score   support\n",
      "\n",
      "        High       0.75      0.56      0.64        43\n",
      "         Low       0.77      0.75      0.76       149\n",
      "      Medium       0.63      0.70      0.66       128\n",
      "\n",
      "    accuracy                           0.70       320\n",
      "   macro avg       0.71      0.67      0.69       320\n",
      "weighted avg       0.71      0.70      0.70       320\n",
      "\n"
     ]
    }
   ],
   "source": [
    "rf = RandomForestClassifier(n_estimators=200, random_state=42)\n",
    "rf.fit(X_train, y_train_binned)\n",
    "\n",
    "y_pred_rf_bin = rf.predict(X_test)\n",
    "\n",
    "print(\"=== Random Forest (Binned) ===\")\n",
    "print(classification_report(y_test_binned, y_pred_rf_bin, zero_division=0))\n"
   ]
  },
  {
   "cell_type": "code",
   "execution_count": 82,
   "id": "3f00082c-ef3b-4d40-891f-343c41102c3d",
   "metadata": {},
   "outputs": [
    {
     "name": "stdout",
     "output_type": "stream",
     "text": [
      "=== XGBoost (Binned, Encoded Labels) ===\n",
      "              precision    recall  f1-score   support\n",
      "\n",
      "        High       0.68      0.65      0.67        43\n",
      "         Low       0.77      0.77      0.77       149\n",
      "      Medium       0.65      0.66      0.65       128\n",
      "\n",
      "    accuracy                           0.71       320\n",
      "   macro avg       0.70      0.69      0.70       320\n",
      "weighted avg       0.71      0.71      0.71       320\n",
      "\n"
     ]
    }
   ],
   "source": [
    "xgb = XGBClassifier(eval_metric='mlogloss', random_state=42)\n",
    "xgb.fit(X_train, y_train_enc)\n",
    "\n",
    "y_pred_xgb_enc = xgb.predict(X_test)\n",
    "y_pred_xgb_bin = le.inverse_transform(y_pred_xgb_enc)\n",
    "\n",
    "print(\"=== XGBoost (Binned, Encoded Labels) ===\")\n",
    "print(classification_report(y_test_binned, y_pred_xgb_bin, zero_division=0))\n"
   ]
  },
  {
   "cell_type": "code",
   "execution_count": 83,
   "id": "70ae1264-f4b6-4fcb-8ae5-56ec3d57a762",
   "metadata": {},
   "outputs": [
    {
     "name": "stdout",
     "output_type": "stream",
     "text": [
      "Logistic Regression Accuracy: 0.6406\n",
      "Random Forest Accuracy: 0.7031\n",
      "XGBoost Accuracy: 0.7094\n"
     ]
    }
   ],
   "source": [
    "models = {\n",
    "    \"Logistic Regression\": y_pred_lr_bin,\n",
    "    \"Random Forest\": y_pred_rf_bin,\n",
    "    \"XGBoost\": y_pred_xgb_bin\n",
    "}\n",
    "\n",
    "for name, preds in models.items():\n",
    "    print(f\"{name} Accuracy: {accuracy_score(y_test_binned, preds):.4f}\")\n"
   ]
  },
  {
   "cell_type": "code",
   "execution_count": 84,
   "id": "f7aaa7d2-4272-4442-81ef-728e44cea9b0",
   "metadata": {},
   "outputs": [
    {
     "data": {
      "image/png": "[encoded data removed]",
      "text/plain": [
       "<Figure size 600x500 with 2 Axes>"
      ]
     },
     "metadata": {},
     "output_type": "display_data"
    }
   ],
   "source": [
    "cm = confusion_matrix(y_test_binned, y_pred_xgb_bin, labels=[\"Low\",\"Medium\",\"High\"])\n",
    "\n",
    "plt.figure(figsize=(6,5))\n",
    "sns.heatmap(cm, annot=True, fmt=\"d\", cmap=\"Blues\",\n",
    "            xticklabels=[\"Low\",\"Medium\",\"High\"],\n",
    "            yticklabels=[\"Low\",\"Medium\",\"High\"])\n",
    "plt.xlabel(\"Predicted\")\n",
    "plt.ylabel(\"Actual\")\n",
    "plt.title(\"XGBoost Confusion Matrix (Binned Classes)\")\n",
    "plt.show()\n"
   ]
  },
  {
   "cell_type": "code",
   "execution_count": 85,
   "id": "168d9ada-6770-40d6-8f36-8235d6e1f54e",
   "metadata": {},
   "outputs": [
    {
     "name": "stderr",
     "output_type": "stream",
     "text": [
      "/var/folders/0t/0vhy93bx667202bw699ppxfc0000gn/T/ipykernel_22668/2126409226.py:7: FutureWarning: \n",
      "\n",
      "Passing `palette` without assigning `hue` is deprecated and will be removed in v0.14.0. Assign the `y` variable to `hue` and set `legend=False` for the same effect.\n",
      "\n",
      "  sns.barplot(x='Importance', y='Feature', data=feat_df, palette=\"viridis\")\n"
     ]
    },
    {
     "data": {
      "image/png": "[encoded data removed]",
      "text/plain": [
       "<Figure size 800x600 with 1 Axes>"
      ]
     },
     "metadata": {},
     "output_type": "display_data"
    }
   ],
   "source": [
    "importances = xgb.feature_importances_\n",
    "features = X.columns\n",
    "\n",
    "feat_df = pd.DataFrame({'Feature': features, 'Importance': importances}).sort_values(by='Importance', ascending=False)\n",
    "\n",
    "plt.figure(figsize=(8,6))\n",
    "sns.barplot(x='Importance', y='Feature', data=feat_df, palette=\"viridis\")\n",
    "plt.title(\"XGBoost Feature Importance\")\n",
    "plt.show()\n"
   ]
  },
  {
   "cell_type": "code",
   "execution_count": null,
   "id": "a3c5937e-5a22-4df0-9d8b-18fdbae41db8",
   "metadata": {},
   "outputs": [],
   "source": []
  }
 ],
 "metadata": {
  "kernelspec": {
   "display_name": "Python (wine)",
   "language": "python",
   "name": "wine"
  },
  "language_info": {
   "codemirror_mode": {
    "name": "ipython",
    "version": 3
   },
   "file_extension": ".py",
   "mimetype": "text/x-python",
   "name": "python",
   "nbconvert_exporter": "python",
   "pygments_lexer": "ipython3",
   "version": "3.10.18"
  }
 },
 "nbformat": 4,
 "nbformat_minor": 5
}
